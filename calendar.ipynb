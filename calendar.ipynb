{
 "cells": [
  {
   "cell_type": "code",
   "execution_count": 2,
   "metadata": {},
   "outputs": [],
   "source": [
    "import pandas as pd\n",
    "from clickhouse_connect import get_client"
   ]
  },
  {
   "cell_type": "code",
   "execution_count": 90,
   "metadata": {},
   "outputs": [],
   "source": [
    "def create_date_dimension(start_date, end_date):\n",
    "    dates = pd.date_range(start=start_date, end=end_date, freq='D')\n",
    "    df = pd.DataFrame(dates, columns=['Date'])\n",
    "    df['DateKey'] = df['Date'].dt.strftime('%Y%m%d')\n",
    "    df['Year'] = df['Date'].dt.year\n",
    "    df['Month'] = df['Date'].dt.month\n",
    "    df['DayOfMonth'] = df['Date'].dt.day\n",
    "    df['DayOfWeek'] = df['Date'].dt.dayofweek + 1  # Понедельник = 1, Воскресенье = 7\n",
    "    df['IsWeekend'] = df['DayOfWeek'].apply(lambda x: 1 if x >= 6 else 0)\n",
    "    \n",
    "    # Пример праздников\n",
    "    holidays = ['2023-12-25', '2023-01-01', '2023-07-04']\n",
    "    df['IsHoliday'] = df['Date'].dt.strftime('%Y-%m-%d').isin(holidays).astype(int)\n",
    "\n",
    "    return df\n",
    "\n",
    "\n",
    "def create_time():\n",
    "    hours = range(24)  # 24 часа\n",
    "    minutes = range(60)  # 60 минут\n",
    "\n",
    "    # Создаем DataFrame с часами и минутами\n",
    "    time_data = [(hour, minute) for hour in hours for minute in minutes]\n",
    "    time_df = pd.DataFrame(time_data, columns=['Hour', 'Minute'])\n",
    "\n",
    "    time_df['Time'] = time_df['Hour'].apply(lambda x: f'{x:02}') + ':' + time_df['Minute'].apply(lambda x: f'{x:02}')\n",
    "\n",
    "    time_df['TimeKey'] = time_df.index\n",
    "\n",
    "    time_df = time_df[['TimeKey', 'Hour', 'Minute', 'Time']]\n",
    "\n",
    "    return time_df\n"
   ]
  },
  {
   "cell_type": "code",
   "execution_count": 77,
   "metadata": {},
   "outputs": [
    {
     "data": {
      "text/plain": [
       "<clickhouse_connect.driver.summary.QuerySummary at 0x263240d9450>"
      ]
     },
     "execution_count": 77,
     "metadata": {},
     "output_type": "execute_result"
    }
   ],
   "source": [
    "# здесь генерируем и записываем таблицу с датами\n",
    "date_dimension = create_date_dimension('2023-01-01', '2023-01-01')\n",
    "\n",
    "\n",
    "client = get_client(\n",
    "    host='10.1.11.65',\n",
    "    username='default',  \n",
    "    password='pegas_warehouse2025',  \n",
    "    database='loaders_olap' \n",
    ")\n",
    "\n",
    "\n",
    "client.insert_df('calendar', date_dimension)"
   ]
  },
  {
   "cell_type": "code",
   "execution_count": 97,
   "metadata": {},
   "outputs": [
    {
     "data": {
      "text/plain": [
       "<clickhouse_connect.driver.summary.QuerySummary at 0x2632f19bd60>"
      ]
     },
     "execution_count": 97,
     "metadata": {},
     "output_type": "execute_result"
    }
   ],
   "source": [
    "# здесь генерируем и записываем таблицу со временем\n",
    "df_time = create_time()\n",
    "\n",
    "\n",
    "client = get_client(\n",
    "    host='10.1.11.65',\n",
    "    username='default',  \n",
    "    password='pegas_warehouse2025',  \n",
    "    database='loaders_olap' \n",
    ")\n",
    "\n",
    "\n",
    "client.insert_df('calendar_minute_grain', df_time)"
   ]
  },
  {
   "cell_type": "code",
   "execution_count": null,
   "metadata": {},
   "outputs": [],
   "source": []
  }
 ],
 "metadata": {
  "kernelspec": {
   "display_name": "base",
   "language": "python",
   "name": "python3"
  },
  "language_info": {
   "codemirror_mode": {
    "name": "ipython",
    "version": 3
   },
   "file_extension": ".py",
   "mimetype": "text/x-python",
   "name": "python",
   "nbconvert_exporter": "python",
   "pygments_lexer": "ipython3",
   "version": "3.10.9"
  }
 },
 "nbformat": 4,
 "nbformat_minor": 2
}
